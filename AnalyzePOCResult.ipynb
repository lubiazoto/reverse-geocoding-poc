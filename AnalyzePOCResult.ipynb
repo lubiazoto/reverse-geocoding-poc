{
 "cells": [
  {
   "cell_type": "code",
   "execution_count": 93,
   "id": "7741c2ef",
   "metadata": {},
   "outputs": [],
   "source": [
    "import pandas as pd\n",
    "COL_LST = ['URL', 'STREET', 'NUMBER', 'LAT', 'LONG', 'API']\n",
    "df = pd.read_csv('/Users/luciana.biazoto/reverse-geocoding-poc/geopoc/test-files/geolocation_poc_result.csv', names=COL_LST, header=None)\n"
   ]
  },
  {
   "cell_type": "code",
   "execution_count": 94,
   "id": "c078abac",
   "metadata": {},
   "outputs": [
    {
     "data": {
      "text/plain": [
       "API\n",
       "API              1\n",
       "GeoApify      2455\n",
       "Google        1001\n",
       "LocationIQ     961\n",
       "MapBox         792\n",
       "OpenCage       269\n",
       "dtype: int64"
      ]
     },
     "execution_count": 94,
     "metadata": {},
     "output_type": "execute_result"
    }
   ],
   "source": [
    "df.groupby(['API']).size()"
   ]
  },
  {
   "cell_type": "code",
   "execution_count": 95,
   "id": "bbdf9df4",
   "metadata": {},
   "outputs": [
    {
     "data": {
      "text/plain": [
       "API\n",
       "API              1\n",
       "GeoApify      1140\n",
       "Google        1001\n",
       "LocationIQ     467\n",
       "MapBox         369\n",
       "OpenCage       128\n",
       "dtype: int64"
      ]
     },
     "execution_count": 95,
     "metadata": {},
     "output_type": "execute_result"
    }
   ],
   "source": [
    "df2 = df.drop_duplicates()\n",
    "df2.groupby(['API']).size()"
   ]
  },
  {
   "cell_type": "code",
   "execution_count": 96,
   "id": "cf1fc59c",
   "metadata": {},
   "outputs": [
    {
     "data": {
      "text/plain": [
       "STREET    209\n",
       "API       209\n",
       "dtype: int64"
      ]
     },
     "execution_count": 96,
     "metadata": {},
     "output_type": "execute_result"
    }
   ],
   "source": [
    "from unidecode import unidecode\n",
    "df_google_geoapify = df2.where(df['API'].isin(['Google', 'GeoApify']))\n",
    "dfr = df_google_geoapify.groupby(['URL', 'NUMBER', 'LAT', 'LONG']).sum()\n",
    "dfr = dfr.loc[dfr['API'].str.contains(\"Google+GeoApify\", case=False)]\n",
    "dfr.count()"
   ]
  },
  {
   "cell_type": "code",
   "execution_count": 114,
   "id": "9bf85611",
   "metadata": {},
   "outputs": [
    {
     "name": "stdout",
     "output_type": "stream",
     "text": [
      "128\n",
      "35\n",
      "21\n",
      "18\n"
     ]
    }
   ],
   "source": [
    "df_geoapify = df2.where(df['API'].isin(['GeoApify']))\n",
    "df_locationiq = df2.where(df['API'].isin(['LocationIQ']))\n",
    "df_mapbox = df2.where(df['API'].isin(['MapBox']))\n",
    "df_opencage = df2.where(df['API'].isin(['OpenCage']))\n",
    "\n",
    "df_r_geoapify = pd.merge(df_google, df_geoapify, how='inner', on=['URL', 'STREET', 'NUMBER', 'LAT', 'LONG'])\n",
    "df_r_locationiq = pd.merge(df_google, df_locationiq, how='inner', on=['URL', 'STREET', 'NUMBER', 'LAT', 'LONG'])\n",
    "df_r_mapbox = pd.merge(df_google, df_mapbox, how='inner', on=['URL', 'STREET', 'NUMBER', 'LAT', 'LONG'])\n",
    "df_r_opencage = pd.merge(df_google, df_opencage, how='inner', on=['URL', 'STREET', 'NUMBER', 'LAT', 'LONG'])\n",
    "\n",
    "print(df_r_geoapify['NUMBER'].count())\n",
    "print(df_r_locationiq['NUMBER'].count())\n",
    "print(df_r_mapbox['NUMBER'].count())\n",
    "print(df_r_opencage['NUMBER'].count())"
   ]
  },
  {
   "cell_type": "code",
   "execution_count": 116,
   "id": "2d2a123f",
   "metadata": {},
   "outputs": [
    {
     "name": "stdout",
     "output_type": "stream",
     "text": [
      "219\n",
      "41\n",
      "51\n",
      "22\n"
     ]
    }
   ],
   "source": [
    "df_geoapify = df2.where(df['API'].isin(['GeoApify']))\n",
    "df_locationiq = df2.where(df['API'].isin(['LocationIQ']))\n",
    "df_mapbox = df2.where(df['API'].isin(['MapBox']))\n",
    "df_opencage = df2.where(df['API'].isin(['OpenCage']))\n",
    "\n",
    "df_r_geoapify = pd.merge(df_google, df_geoapify, how='inner', on=['URL', 'NUMBER', 'LAT', 'LONG'])\n",
    "df_r_locationiq = pd.merge(df_google, df_locationiq, how='inner', on=['URL', 'NUMBER', 'LAT', 'LONG'])\n",
    "df_r_mapbox = pd.merge(df_google, df_mapbox, how='inner', on=['URL', 'NUMBER', 'LAT', 'LONG'])\n",
    "df_r_opencage = pd.merge(df_google, df_opencage, how='inner', on=['URL', 'NUMBER', 'LAT', 'LONG'])\n",
    "\n",
    "print(df_r_geoapify['NUMBER'].count())\n",
    "print(df_r_locationiq['NUMBER'].count())\n",
    "print(df_r_mapbox['NUMBER'].count())\n",
    "print(df_r_opencage['NUMBER'].count())"
   ]
  },
  {
   "cell_type": "code",
   "execution_count": 117,
   "id": "f984a0c8",
   "metadata": {},
   "outputs": [
    {
     "name": "stdout",
     "output_type": "stream",
     "text": [
      "1140\n",
      "184\n",
      "369\n",
      "128\n"
     ]
    }
   ],
   "source": [
    "print(df_geoapify['NUMBER'].notnull().values.sum())\n",
    "print(df_locationiq['NUMBER'].notnull().values.sum())\n",
    "print(df_mapbox['NUMBER'].notnull().values.sum())\n",
    "print(df_opencage['NUMBER'].notnull().values.sum())"
   ]
  },
  {
   "cell_type": "code",
   "execution_count": 119,
   "id": "0faf086f",
   "metadata": {},
   "outputs": [
    {
     "name": "stdout",
     "output_type": "stream",
     "text": [
      "1140\n",
      "456\n",
      "369\n",
      "128\n"
     ]
    }
   ],
   "source": [
    "print(df_geoapify['STREET'].notnull().values.sum())\n",
    "print(df_locationiq['STREET'].notnull().values.sum())\n",
    "print(df_mapbox['STREET'].notnull().values.sum())\n",
    "print(df_opencage['STREET'].notnull().values.sum())"
   ]
  },
  {
   "cell_type": "code",
   "execution_count": 129,
   "id": "fd6d63f4",
   "metadata": {},
   "outputs": [],
   "source": []
  }
 ],
 "metadata": {
  "kernelspec": {
   "display_name": "Python 3 (ipykernel)",
   "language": "python",
   "name": "python3"
  },
  "language_info": {
   "codemirror_mode": {
    "name": "ipython",
    "version": 3
   },
   "file_extension": ".py",
   "mimetype": "text/x-python",
   "name": "python",
   "nbconvert_exporter": "python",
   "pygments_lexer": "ipython3",
   "version": "3.9.7"
  }
 },
 "nbformat": 4,
 "nbformat_minor": 5
}

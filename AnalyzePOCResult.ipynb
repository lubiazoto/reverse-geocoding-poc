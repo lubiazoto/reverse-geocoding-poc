{
 "cells": [
  {
   "cell_type": "code",
   "execution_count": 2,
   "id": "7741c2ef",
   "metadata": {},
   "outputs": [],
   "source": [
    "import pandas as pd\n",
    "COL_LST = ['URL', 'STREET', 'NUMBER', 'LAT', 'LONG', 'API']\n",
    "df = pd.read_csv('/Users/luciana.biazoto/reverseGeolocationPOC/geolocation_poc_result.csv', names=COL_LST, header=None)\n"
   ]
  },
  {
   "cell_type": "code",
   "execution_count": 31,
   "id": "c078abac",
   "metadata": {},
   "outputs": [
    {
     "data": {
      "text/plain": [
       "API\n",
       "API              2\n",
       "GeoApify      2475\n",
       "Google        1998\n",
       "LocationIQ     901\n",
       "MapBox         821\n",
       "OpenCage       390\n",
       "dtype: int64"
      ]
     },
     "execution_count": 31,
     "metadata": {},
     "output_type": "execute_result"
    }
   ],
   "source": [
    "df.groupby(['API']).size()"
   ]
  },
  {
   "cell_type": "code",
   "execution_count": 30,
   "id": "bbdf9df4",
   "metadata": {},
   "outputs": [
    {
     "data": {
      "text/plain": [
       "API\n",
       "API              1\n",
       "GeoApify      1105\n",
       "Google         956\n",
       "LocationIQ     419\n",
       "MapBox         368\n",
       "OpenCage       174\n",
       "dtype: int64"
      ]
     },
     "execution_count": 30,
     "metadata": {},
     "output_type": "execute_result"
    }
   ],
   "source": [
    "df2 = df.drop_duplicates()\n",
    "df2.groupby(['API']).size()"
   ]
  },
  {
   "cell_type": "code",
   "execution_count": 44,
   "id": "cf1fc59c",
   "metadata": {},
   "outputs": [],
   "source": [
    "df_google = df2.where(df['API'].isin(['Google']))\n",
    "df_geoapify = df2.where(df['API'].isin(['GeoApify']))\n",
    "df_locationiq = df2.where(df['API'].isin(['LoationIQ']))\n",
    "df_mapbox = df2.where(df['API'].isin(['MapBox']))\n",
    "df_opencage = df2.where(df['API'].isin(['OpenCage']))\n",
    "\n",
    "df_r_geoapify = pd.merge(df_google, df_geoapify, how='inner', on=['URL', 'STREET', 'NUMBER', 'LAT', 'LONG'])\n",
    "df_r_locationiq = pd.merge(df_google, df_locationiq, how='inner', on=['URL', 'STREET', 'NUMBER', 'LAT', 'LONG'])\n",
    "df_r_mapbox = pd.merge(df_google, df_mapbox, how='inner', on=['URL', 'STREET', 'NUMBER', 'LAT', 'LONG'])\n",
    "df_r_opencage = pd.merge(df_google, df_opencage, how='inner', on=['URL', 'STREET', 'NUMBER', 'LAT', 'LONG'])\n"
   ]
  },
  {
   "cell_type": "code",
   "execution_count": 6,
   "id": "9bf85611",
   "metadata": {},
   "outputs": [
    {
     "name": "stdout",
     "output_type": "stream",
     "text": [
      "137\n",
      "0\n",
      "30\n",
      "37\n"
     ]
    }
   ],
   "source": [
    "print(df_r_geoapify['NUMBER'].count())\n",
    "print(df_r_locationiq['NUMBER'].count())\n",
    "print(df_r_mapbox['NUMBER'].count())\n",
    "print(df_r_opencage['NUMBER'].count())"
   ]
  },
  {
   "cell_type": "code",
   "execution_count": 45,
   "id": "2d2a123f",
   "metadata": {},
   "outputs": [
    {
     "name": "stdout",
     "output_type": "stream",
     "text": [
      "154\n",
      "0\n",
      "36\n",
      "44\n"
     ]
    }
   ],
   "source": [
    "\n",
    "df_r_geoapify = pd.merge(df_geoapify, df_google, how='inner', on=['STREET', 'NUMBER'])\n",
    "df_r_locationiq = pd.merge(df_locationiq, df_google, how='inner', on=['STREET', 'NUMBER'])\n",
    "df_r_mapbox = pd.merge(df_mapbox, df_google, how='inner', on=['STREET', 'NUMBER'])\n",
    "df_r_opencage = pd.merge(df_opencage, df_google, how='inner', on=['STREET', 'NUMBER'])\n",
    "print(df_r_geoapify['NUMBER'].count())\n",
    "print(df_r_locationiq['NUMBER'].count())\n",
    "print(df_r_mapbox['NUMBER'].count())\n",
    "print(df_r_opencage['NUMBER'].count())"
   ]
  },
  {
   "cell_type": "code",
   "execution_count": 43,
   "id": "f984a0c8",
   "metadata": {},
   "outputs": [
    {
     "name": "stdout",
     "output_type": "stream",
     "text": [
      "STREET                      NUMBER\n",
      "Alameda Campinas            1213      1\n",
      "                            1223      1\n",
      "                            712       1\n",
      "                            728       1\n",
      "Alameda Casa Branca         876       1\n",
      "                                     ..\n",
      "Rua Úrsula Paulino          1177      1\n",
      "Travessa Teodomiro Pereira  142       1\n",
      "                            150       1\n",
      "                            151       1\n",
      "Viaduto Emílio Baungart     336       1\n",
      "Name: STREET, Length: 873, dtype: int64\n",
      "STREET                      NUMBER\n",
      "Alameda Campinas            1183      1\n",
      "                            1213      1\n",
      "                            1235      1\n",
      "                            656       1\n",
      "                            682       1\n",
      "                                     ..\n",
      "Rua dos Inválidos           95        1\n",
      "Sem Nome - Cl 339192        0         2\n",
      "Travessa Teodomiro Pereira  151       1\n",
      "                            263       1\n",
      "Vila Sem Denominacao        107       1\n",
      "Name: STREET, Length: 1008, dtype: int64\n",
      "Series([], Name: STREET, dtype: int64)\n",
      "STREET                           NUMBER\n",
      "Alameda Casa Branca              939       1\n",
      "Alameda Dos Jurupis              1303      1\n",
      "Alameda Franca                   975       1\n",
      "Alameda Jau                      752       1\n",
      "Alameda Joaquim Eugenio De Lima  1150      2\n",
      "                                          ..\n",
      "Rua Viúva Lacerda                433       1\n",
      "Rua Xavier Curado                204       1\n",
      "Travessa Nestor Vitor            75        1\n",
      "Travessa Perpetua Vicente        84        1\n",
      "Travessa Teodomiro Pereira       151       1\n",
      "Name: STREET, Length: 337, dtype: int64\n",
      "STREET                            NUMBER\n",
      "Alameda Franca                    898       1\n",
      "Alameda Itu                       1028      1\n",
      "Alameda Joaquim Eugênio de Lima   995       2\n",
      "Alameda Lorena                    1748      1\n",
      "Alameda Ministro Rocha Azevedo    523       1\n",
      "                                           ..\n",
      "Rua da Relação                    40        1\n",
      "                                  42        1\n",
      "Rua do Bosque                     294       1\n",
      "Travessa Maestro Henrique Catani  177       1\n",
      "Travessa dos Eucaliptos           2535      1\n",
      "Name: STREET, Length: 157, dtype: int64\n"
     ]
    }
   ],
   "source": [
    "print(df_google.groupby(['STREET', 'NUMBER'])['STREET'].size())\n",
    "print(df_geoapify.groupby(['STREET', 'NUMBER'])['STREET'].size())\n",
    "print(df_locationiq.groupby(['STREET', 'NUMBER'])['STREET'].size())\n",
    "print(df_mapbox.groupby(['STREET', 'NUMBER'])['STREET'].size())\n",
    "print(df_opencage.groupby(['STREET', 'NUMBER'])['STREET'].size())\n"
   ]
  },
  {
   "cell_type": "code",
   "execution_count": 40,
   "id": "0faf086f",
   "metadata": {},
   "outputs": [
    {
     "data": {
      "text/plain": [
       "LAT          LONG       \n",
       "-19.81261    -43.978036     6\n",
       "-19.813233   -43.971081     6\n",
       "-19.820534   -43.980301     6\n",
       "-19.82112    -43.999626     6\n",
       "-19.826451   -43.972196     6\n",
       "                           ..\n",
       "-23.6495318  -46.6700207    8\n",
       "-23.651528   -46.744978     6\n",
       "-23.6536633  -46.7066927    7\n",
       "-23.665511   -46.68261      6\n",
       "LAT          LONG           1\n",
       "Name: LONG, Length: 429, dtype: int64"
      ]
     },
     "execution_count": 40,
     "metadata": {},
     "output_type": "execute_result"
    }
   ],
   "source": [
    "df2.groupby(['LAT','LONG'])['LONG'].size()\n"
   ]
  },
  {
   "cell_type": "code",
   "execution_count": 129,
   "id": "fd6d63f4",
   "metadata": {},
   "outputs": [],
   "source": []
  }
 ],
 "metadata": {
  "kernelspec": {
   "display_name": "Python 3 (ipykernel)",
   "language": "python",
   "name": "python3"
  },
  "language_info": {
   "codemirror_mode": {
    "name": "ipython",
    "version": 3
   },
   "file_extension": ".py",
   "mimetype": "text/x-python",
   "name": "python",
   "nbconvert_exporter": "python",
   "pygments_lexer": "ipython3",
   "version": "3.9.7"
  }
 },
 "nbformat": 4,
 "nbformat_minor": 5
}
